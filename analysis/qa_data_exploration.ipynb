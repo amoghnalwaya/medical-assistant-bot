{
 "cells": [
  {
   "cell_type": "code",
   "id": "56be123c-4986-433e-bee0-65d4f6d1318e",
   "metadata": {
    "ExecuteTime": {
     "end_time": "2025-09-19T23:54:08.201923Z",
     "start_time": "2025-09-19T23:54:08.192312Z"
    }
   },
   "source": [
    "import pandas as pd\n",
    "import statistics\n",
    "import matplotlib.pyplot as plt\n",
    "from sklearn.metrics.pairwise import cosine_distances"
   ],
   "outputs": [],
   "execution_count": 34
  },
  {
   "cell_type": "code",
   "id": "63aad432-bf1b-4b16-be74-11f40bbae3fa",
   "metadata": {
    "ExecuteTime": {
     "end_time": "2025-09-19T23:54:08.965520Z",
     "start_time": "2025-09-19T23:54:08.765130Z"
    }
   },
   "source": [
    "df = pd.read_csv(\"../data/mle_screening_dataset.csv\")\n",
    "df.head(5)"
   ],
   "outputs": [
    {
     "data": {
      "text/plain": [
       "                         question  \\\n",
       "0        What is (are) Glaucoma ?   \n",
       "1        What is (are) Glaucoma ?   \n",
       "2        What is (are) Glaucoma ?   \n",
       "3  Who is at risk for Glaucoma? ?   \n",
       "4       How to prevent Glaucoma ?   \n",
       "\n",
       "                                              answer  \n",
       "0  Glaucoma is a group of diseases that can damag...  \n",
       "1  The optic nerve is a bundle of more than 1 mil...  \n",
       "2  Open-angle glaucoma is the most common form of...  \n",
       "3  Anyone can develop glaucoma. Some people are a...  \n",
       "4  At this time, we do not know how to prevent gl...  "
      ],
      "text/html": [
       "<div>\n",
       "<style scoped>\n",
       "    .dataframe tbody tr th:only-of-type {\n",
       "        vertical-align: middle;\n",
       "    }\n",
       "\n",
       "    .dataframe tbody tr th {\n",
       "        vertical-align: top;\n",
       "    }\n",
       "\n",
       "    .dataframe thead th {\n",
       "        text-align: right;\n",
       "    }\n",
       "</style>\n",
       "<table border=\"1\" class=\"dataframe\">\n",
       "  <thead>\n",
       "    <tr style=\"text-align: right;\">\n",
       "      <th></th>\n",
       "      <th>question</th>\n",
       "      <th>answer</th>\n",
       "    </tr>\n",
       "  </thead>\n",
       "  <tbody>\n",
       "    <tr>\n",
       "      <th>0</th>\n",
       "      <td>What is (are) Glaucoma ?</td>\n",
       "      <td>Glaucoma is a group of diseases that can damag...</td>\n",
       "    </tr>\n",
       "    <tr>\n",
       "      <th>1</th>\n",
       "      <td>What is (are) Glaucoma ?</td>\n",
       "      <td>The optic nerve is a bundle of more than 1 mil...</td>\n",
       "    </tr>\n",
       "    <tr>\n",
       "      <th>2</th>\n",
       "      <td>What is (are) Glaucoma ?</td>\n",
       "      <td>Open-angle glaucoma is the most common form of...</td>\n",
       "    </tr>\n",
       "    <tr>\n",
       "      <th>3</th>\n",
       "      <td>Who is at risk for Glaucoma? ?</td>\n",
       "      <td>Anyone can develop glaucoma. Some people are a...</td>\n",
       "    </tr>\n",
       "    <tr>\n",
       "      <th>4</th>\n",
       "      <td>How to prevent Glaucoma ?</td>\n",
       "      <td>At this time, we do not know how to prevent gl...</td>\n",
       "    </tr>\n",
       "  </tbody>\n",
       "</table>\n",
       "</div>"
      ]
     },
     "execution_count": 35,
     "metadata": {},
     "output_type": "execute_result"
    }
   ],
   "execution_count": 35
  },
  {
   "cell_type": "code",
   "id": "8dd98334-882e-4486-aa1b-c52f80f8e5d8",
   "metadata": {
    "ExecuteTime": {
     "end_time": "2025-09-19T23:54:10.107739Z",
     "start_time": "2025-09-19T23:54:10.103757Z"
    }
   },
   "source": [
    "print(\"question: \", df.iloc[0]['question'], \"\\nanswer: \", df.iloc[0]['answer'])"
   ],
   "outputs": [
    {
     "name": "stdout",
     "output_type": "stream",
     "text": [
      "question:  What is (are) Glaucoma ? \n",
      "answer:  Glaucoma is a group of diseases that can damage the eye's optic nerve and result in vision loss and blindness. The most common form of the disease is open-angle glaucoma. With early treatment, you can often protect your eyes against serious vision loss. (Watch the video to learn more about glaucoma. To enlarge the video, click the brackets in the lower right-hand corner. To reduce the video, press the Escape (Esc) button on your keyboard.)  See this graphic for a quick overview of glaucoma, including how many people it affects, whos at risk, what to do if you have it, and how to learn more.  See a glossary of glaucoma terms.\n"
     ]
    }
   ],
   "execution_count": 36
  },
  {
   "cell_type": "code",
   "id": "828851db-7e51-452c-8ae4-7e7325518a66",
   "metadata": {
    "ExecuteTime": {
     "end_time": "2025-09-19T23:54:10.858186Z",
     "start_time": "2025-09-19T23:54:10.853513Z"
    }
   },
   "source": [
    "df.shape"
   ],
   "outputs": [
    {
     "data": {
      "text/plain": [
       "(16406, 2)"
      ]
     },
     "execution_count": 37,
     "metadata": {},
     "output_type": "execute_result"
    }
   ],
   "execution_count": 37
  },
  {
   "cell_type": "code",
   "id": "85a8780f-f102-480a-a273-b7743e7fa3ab",
   "metadata": {
    "ExecuteTime": {
     "end_time": "2025-09-19T23:54:11.753455Z",
     "start_time": "2025-09-19T23:54:11.744991Z"
    }
   },
   "source": [
    "df.isnull().sum().to_dict()"
   ],
   "outputs": [
    {
     "data": {
      "text/plain": [
       "{'question': 0, 'answer': 5}"
      ]
     },
     "execution_count": 38,
     "metadata": {},
     "output_type": "execute_result"
    }
   ],
   "execution_count": 38
  },
  {
   "cell_type": "code",
   "id": "f251dba5-741f-422b-b6fc-0ee572f0aa3d",
   "metadata": {
    "ExecuteTime": {
     "end_time": "2025-09-19T23:54:12.452722Z",
     "start_time": "2025-09-19T23:54:12.427845Z"
    }
   },
   "source": [
    "df.duplicated().sum()"
   ],
   "outputs": [
    {
     "data": {
      "text/plain": [
       "np.int64(48)"
      ]
     },
     "execution_count": 39,
     "metadata": {},
     "output_type": "execute_result"
    }
   ],
   "execution_count": 39
  },
  {
   "cell_type": "code",
   "id": "683f04d2-c2f1-45d7-926f-60d6bf5cf071",
   "metadata": {
    "ExecuteTime": {
     "end_time": "2025-09-19T23:54:13.041377Z",
     "start_time": "2025-09-19T23:54:13.036478Z"
    }
   },
   "source": [
    "df['question'].duplicated().sum()"
   ],
   "outputs": [
    {
     "data": {
      "text/plain": [
       "np.int64(1425)"
      ]
     },
     "execution_count": 40,
     "metadata": {},
     "output_type": "execute_result"
    }
   ],
   "execution_count": 40
  },
  {
   "cell_type": "code",
   "id": "f0e27279-4b8f-480a-857d-6e0d6b613b83",
   "metadata": {
    "ExecuteTime": {
     "end_time": "2025-09-19T23:54:13.567455Z",
     "start_time": "2025-09-19T23:54:13.562739Z"
    }
   },
   "source": [
    "df['answer'].duplicated().sum()"
   ],
   "outputs": [
    {
     "data": {
      "text/plain": [
       "np.int64(594)"
      ]
     },
     "execution_count": 41,
     "metadata": {},
     "output_type": "execute_result"
    }
   ],
   "execution_count": 41
  },
  {
   "cell_type": "code",
   "id": "549cfbb1-ec3e-47eb-86f1-968e3a156ef4",
   "metadata": {
    "ExecuteTime": {
     "end_time": "2025-09-19T23:21:23.241195Z",
     "start_time": "2025-09-19T23:21:23.197881Z"
    }
   },
   "source": [
    "dup_counts = df.value_counts().reset_index(name=\"count\")\n",
    "dup_counts[dup_counts[\"count\"] > 1].head(10)"
   ],
   "outputs": [
    {
     "data": {
      "text/plain": [
       "                                            question  \\\n",
       "0                   What causes Causes of Diabetes ?   \n",
       "1                What to do for Causes of Diabetes ?   \n",
       "2                 What is (are) Causes of Diabetes ?   \n",
       "3                   What causes Causes of Diabetes ?   \n",
       "4                   What causes Causes of Diabetes ?   \n",
       "5                   What causes Causes of Diabetes ?   \n",
       "6              How to diagnose Glomerular Diseases ?   \n",
       "7  What is (are) Kidney Failure: Eat Right to Fee...   \n",
       "8             What is (are) Renal Tubular Acidosis ?   \n",
       "9             What is (are) Renal Tubular Acidosis ?   \n",
       "\n",
       "                                              answer  count  \n",
       "0  Other types of diabetes have a variety of poss...      8  \n",
       "1  - Diabetes is a complex group of diseases with...      4  \n",
       "2  Diabetes is a complex group of diseases with a...      4  \n",
       "3  Type 1 diabetes is caused by a lack of insulin...      4  \n",
       "4  Insulin Resistance and Beta Cell Dysfunction\\n...      4  \n",
       "5  Type 2 diabetesthe most common form of diabete...      4  \n",
       "6  Patients with glomerular disease have signific...      2  \n",
       "7  Potassium is a mineral found in many foods, es...      2  \n",
       "8  Type 1: Classical Distal RTA\\n                ...      2  \n",
       "9  Renal tubular acidosis (RTA) is a disease that...      2  "
      ],
      "text/html": [
       "<div>\n",
       "<style scoped>\n",
       "    .dataframe tbody tr th:only-of-type {\n",
       "        vertical-align: middle;\n",
       "    }\n",
       "\n",
       "    .dataframe tbody tr th {\n",
       "        vertical-align: top;\n",
       "    }\n",
       "\n",
       "    .dataframe thead th {\n",
       "        text-align: right;\n",
       "    }\n",
       "</style>\n",
       "<table border=\"1\" class=\"dataframe\">\n",
       "  <thead>\n",
       "    <tr style=\"text-align: right;\">\n",
       "      <th></th>\n",
       "      <th>question</th>\n",
       "      <th>answer</th>\n",
       "      <th>count</th>\n",
       "    </tr>\n",
       "  </thead>\n",
       "  <tbody>\n",
       "    <tr>\n",
       "      <th>0</th>\n",
       "      <td>What causes Causes of Diabetes ?</td>\n",
       "      <td>Other types of diabetes have a variety of poss...</td>\n",
       "      <td>8</td>\n",
       "    </tr>\n",
       "    <tr>\n",
       "      <th>1</th>\n",
       "      <td>What to do for Causes of Diabetes ?</td>\n",
       "      <td>- Diabetes is a complex group of diseases with...</td>\n",
       "      <td>4</td>\n",
       "    </tr>\n",
       "    <tr>\n",
       "      <th>2</th>\n",
       "      <td>What is (are) Causes of Diabetes ?</td>\n",
       "      <td>Diabetes is a complex group of diseases with a...</td>\n",
       "      <td>4</td>\n",
       "    </tr>\n",
       "    <tr>\n",
       "      <th>3</th>\n",
       "      <td>What causes Causes of Diabetes ?</td>\n",
       "      <td>Type 1 diabetes is caused by a lack of insulin...</td>\n",
       "      <td>4</td>\n",
       "    </tr>\n",
       "    <tr>\n",
       "      <th>4</th>\n",
       "      <td>What causes Causes of Diabetes ?</td>\n",
       "      <td>Insulin Resistance and Beta Cell Dysfunction\\n...</td>\n",
       "      <td>4</td>\n",
       "    </tr>\n",
       "    <tr>\n",
       "      <th>5</th>\n",
       "      <td>What causes Causes of Diabetes ?</td>\n",
       "      <td>Type 2 diabetesthe most common form of diabete...</td>\n",
       "      <td>4</td>\n",
       "    </tr>\n",
       "    <tr>\n",
       "      <th>6</th>\n",
       "      <td>How to diagnose Glomerular Diseases ?</td>\n",
       "      <td>Patients with glomerular disease have signific...</td>\n",
       "      <td>2</td>\n",
       "    </tr>\n",
       "    <tr>\n",
       "      <th>7</th>\n",
       "      <td>What is (are) Kidney Failure: Eat Right to Fee...</td>\n",
       "      <td>Potassium is a mineral found in many foods, es...</td>\n",
       "      <td>2</td>\n",
       "    </tr>\n",
       "    <tr>\n",
       "      <th>8</th>\n",
       "      <td>What is (are) Renal Tubular Acidosis ?</td>\n",
       "      <td>Type 1: Classical Distal RTA\\n                ...</td>\n",
       "      <td>2</td>\n",
       "    </tr>\n",
       "    <tr>\n",
       "      <th>9</th>\n",
       "      <td>What is (are) Renal Tubular Acidosis ?</td>\n",
       "      <td>Renal tubular acidosis (RTA) is a disease that...</td>\n",
       "      <td>2</td>\n",
       "    </tr>\n",
       "  </tbody>\n",
       "</table>\n",
       "</div>"
      ]
     },
     "execution_count": 9,
     "metadata": {},
     "output_type": "execute_result"
    }
   ],
   "execution_count": 9
  },
  {
   "cell_type": "code",
   "id": "e067f6a4-33d2-458d-95ff-c2e39039258b",
   "metadata": {
    "ExecuteTime": {
     "end_time": "2025-09-19T23:21:26.788481Z",
     "start_time": "2025-09-19T23:21:26.785201Z"
    }
   },
   "source": [
    "def normalize_question(q):\n",
    "    \"\"\"\n",
    "    Produce a normalized key so near-duplicates map to the same string.\n",
    "    \"\"\"\n",
    "    if not isinstance(q, str): return ''\n",
    "    q = q.strip().lower()\n",
    "    q = re.sub(r'\\s+', ' ', q)\n",
    "    q = re.sub(r'\\s+([?.!,;:])', r'\\1', q)\n",
    "    q = re.sub(r'\\?{2,}$', '?', q)\n",
    "    return q"
   ],
   "outputs": [],
   "execution_count": 10
  },
  {
   "cell_type": "code",
   "id": "2affbf34-8d3f-47c7-8a16-df804b5322e5",
   "metadata": {
    "ExecuteTime": {
     "end_time": "2025-09-19T23:21:48.442764Z",
     "start_time": "2025-09-19T23:21:48.438063Z"
    }
   },
   "source": [
    "def length_stats(series):\n",
    "    \"\"\"\n",
    "    Compute token-length distribution stats for a Pandas Series.\n",
    "    \"\"\"\n",
    "    lengths = series.astype(str).str.split().apply(len)\n",
    "    return {\n",
    "        \"count\": int(lengths.shape[0]),\n",
    "        \"min\": int(lengths.min() if len(lengths) else 0),\n",
    "        \"p10\": float(lengths.quantile(0.10)) if len(lengths) else 0.0,\n",
    "        \"median\": float(lengths.median() if len(lengths) else 0),\n",
    "        \"p90\": float(lengths.quantile(0.90)) if len(lengths) else 0.0,\n",
    "        \"max\": int(lengths.max() if len(lengths) else 0),\n",
    "        \"mean\": float(lengths.mean() if len(lengths) else 0.0),\n",
    "        \"std\": float(lengths.std() if len(lengths) else 0.0,\n",
    "        ),\n",
    "    }"
   ],
   "outputs": [],
   "execution_count": 11
  },
  {
   "cell_type": "code",
   "id": "332a5939-f398-4cde-ab5a-58e385b613e4",
   "metadata": {
    "ExecuteTime": {
     "end_time": "2025-09-19T23:21:57.888603Z",
     "start_time": "2025-09-19T23:21:57.885190Z"
    }
   },
   "source": [
    "def plot_hist(data, title, xlabel, out_path):\n",
    "    \"\"\"\n",
    "    Plotting helper; Save the plots for visibility / generating reports\n",
    "    \"\"\"\n",
    "    fig = plt.figure()\n",
    "    plt.hist(data, bins=50)\n",
    "    plt.title(title)\n",
    "    plt.xlabel(xlabel)\n",
    "    plt.ylabel('Count')\n",
    "    plt.tight_layout()\n",
    "    fig.savefig(out_path, dpi=150)\n",
    "    plt.close(fig)"
   ],
   "outputs": [],
   "execution_count": 12
  },
  {
   "cell_type": "code",
   "id": "c9a9421a-3d34-48a0-bd9e-2029d69389f2",
   "metadata": {
    "ExecuteTime": {
     "end_time": "2025-09-19T23:22:04.419165Z",
     "start_time": "2025-09-19T23:22:04.414645Z"
    }
   },
   "source": [
    "def top_ngrams(series, n=2, topk=25):\n",
    "    \"\"\"\n",
    "    Word level top n-grams.\n",
    "    Splits into word tokens, counts contiguous n-grams (default bigrams)\n",
    "    \"\"\"\n",
    "    tokens = series.astype(str).str.lower().str.replace(r'[^a-z0-9\\s]', ' ', regex=True).str.split()\n",
    "    grams = Counter()\n",
    "    for toks in tokens:\n",
    "        for i in range(len(toks)-n+1):\n",
    "            grams[tuple(toks[i:i+n])] += 1\n",
    "    items = [{'ngram':' '.join(k), 'count':v} for k,v in grams.most_common(topk)]\n",
    "    return pd.DataFrame(items)"
   ],
   "outputs": [],
   "execution_count": 13
  },
  {
   "cell_type": "code",
   "id": "db6ebb54-3749-4706-9f28-1f4c4e78df68",
   "metadata": {
    "ExecuteTime": {
     "end_time": "2025-09-19T23:22:15.292384Z",
     "start_time": "2025-09-19T23:22:15.287455Z"
    }
   },
   "source": [
    "def detect_near_duplicates(texts, sample_size=2000, threshold=0.10):\n",
    "    \"\"\"\n",
    "    Flags pairs with near duplicates using cosine distance \n",
    "    in TF-IDF space (0 = identical, 2 = opposite direction, but practically 0–1).\n",
    "    Using hand-wavy threshold as 0.1, but can be tuned.\n",
    "    \"\"\"\n",
    "    idxs = np.arange(len(texts))\n",
    "    if len(idxs) > sample_size:\n",
    "        rng = np.random.default_rng(42)\n",
    "        idxs = rng.choice(idxs, size=sample_size, replace=False)\n",
    "    subset = texts.iloc[idxs].tolist()\n",
    "    vec = TfidfVectorizer(analyzer='char_wb', ngram_range=(3,5), min_df=2)\n",
    "    X = vec.fit_transform(subset)\n",
    "    D = cosine_distances(X)\n",
    "    pairs = []\n",
    "    for i in range(len(subset)):\n",
    "        for j in range(i+1, len(subset)):\n",
    "            d = float(D[i, j])\n",
    "            if d <= threshold:\n",
    "                pairs.append((subset[i], subset[j], d))\n",
    "    return pd.DataFrame(pairs, columns=['q1','q2','cosine_distance']).sort_values('cosine_distance')"
   ],
   "outputs": [],
   "execution_count": 14
  },
  {
   "cell_type": "code",
   "id": "d4163f75-1ad9-4d75-a81a-5dd6579bfe35",
   "metadata": {
    "ExecuteTime": {
     "end_time": "2025-09-19T23:22:47.990634Z",
     "start_time": "2025-09-19T23:22:47.915797Z"
    }
   },
   "source": [
    "import re\n",
    "df['q_norm'] = df['question'].apply(normalize_question)"
   ],
   "outputs": [],
   "execution_count": 16
  },
  {
   "cell_type": "code",
   "id": "b62d1bae-8aad-4ff9-83f1-6f8fccaade2f",
   "metadata": {
    "ExecuteTime": {
     "end_time": "2025-09-19T23:23:05.259602Z",
     "start_time": "2025-09-19T23:23:05.224045Z"
    }
   },
   "source": [
    "dup_counts = df.groupby('q_norm').size().sort_values(ascending=False)\n",
    "n_unique = int(dup_counts.shape[0])\n",
    "n_dupe_groups = int((dup_counts>1).sum())\n",
    "top_dupes = dup_counts.head(20).reset_index().rename(columns={0:'count'})"
   ],
   "outputs": [],
   "execution_count": 17
  },
  {
   "cell_type": "code",
   "id": "aaf555da-f2b9-4a76-9cfb-2abb5edbf111",
   "metadata": {
    "ExecuteTime": {
     "end_time": "2025-09-19T23:23:05.995903Z",
     "start_time": "2025-09-19T23:23:05.992075Z"
    }
   },
   "source": [
    "print(f\"Total unique normalized questions: {n_unique:,}\")\n",
    "print(f\"Groups with duplicates: {n_dupe_groups:,} \"\n",
    "      f\"({n_dupe_groups / n_unique:.2%} of unique)\")\n",
    "print(\"\\nTop duplicate questions:\")\n",
    "print(top_dupes.to_string(index=False))"
   ],
   "outputs": [
    {
     "name": "stdout",
     "output_type": "stream",
     "text": [
      "Total unique normalized questions: 14,346\n",
      "Groups with duplicates: 1,411 (9.84% of unique)\n",
      "\n",
      "Top duplicate questions:\n",
      "                                                                q_norm  count\n",
      "                                       what causes causes of diabetes?     20\n",
      "                                 what is (are) high blood cholesterol?     19\n",
      "                           what is (are) medicare and continuing care?     14\n",
      "                                                 what is (are) stroke?     13\n",
      "                            what are the treatments for breast cancer?     13\n",
      "                                            what is (are) skin cancer?     13\n",
      "                                          what is (are) breast cancer?     13\n",
      "what is (are) kidney failure: eat right to feel right on hemodialysis?     12\n",
      "                                      what is (are) colorectal cancer?     12\n",
      "                          what are the treatments for prostate cancer?     11\n",
      "                                    what is (are) high blood pressure?     11\n",
      "                                    what is (are) parkinson's disease?     11\n",
      "                       what is (are) age-related macular degeneration?     10\n",
      "                                        what is (are) prostate cancer?     10\n",
      "what is (are) nutrition for advanced chronic kidney disease in adults?     10\n",
      "                                               what is (are) leukemia?     10\n",
      "                                     who is at risk for breast cancer?      9\n",
      "                                   who is at risk for prostate cancer?      9\n",
      "                                            what is (are) lung cancer?      9\n",
      "                              what are the treatments for lung cancer?      8\n"
     ]
    }
   ],
   "execution_count": 18
  },
  {
   "cell_type": "code",
   "id": "0e904a99-7916-4b5a-afd8-0d68850e542c",
   "metadata": {
    "ExecuteTime": {
     "end_time": "2025-09-19T23:23:14.777098Z",
     "start_time": "2025-09-19T23:23:14.566851Z"
    }
   },
   "source": [
    "# Get length of questions and answers for potential insights\n",
    "def stats(series): return series.astype(str).str.split().apply(len).tolist()\n",
    "q_lengths = stats(df['question'])\n",
    "a_lengths = stats(df['answer'])"
   ],
   "outputs": [],
   "execution_count": 19
  },
  {
   "cell_type": "code",
   "id": "cc6a4bbb-406a-41c9-84dd-1e9079760cc7",
   "metadata": {
    "ExecuteTime": {
     "end_time": "2025-09-19T23:23:17.815828Z",
     "start_time": "2025-09-19T23:23:17.564730Z"
    }
   },
   "source": [
    "# Histogram plots plots\n",
    "plot_hist(q_lengths, 'Question Length Distribution (tokens)', 'Question length', '../plots/question_len_hist.png')\n",
    "plot_hist(a_lengths, 'Answer Length Distribution (tokens)', 'Answer length', '../plots/answer_len_hist.png')\n"
   ],
   "outputs": [],
   "execution_count": 20
  },
  {
   "cell_type": "code",
   "id": "c507a64e-1b17-422d-b9ee-c46ed296e6f3",
   "metadata": {
    "ExecuteTime": {
     "end_time": "2025-09-19T23:23:27.409363Z",
     "start_time": "2025-09-19T23:23:27.400997Z"
    }
   },
   "source": [
    "median_q_lengths = statistics.median(q_lengths)\n",
    "print(f\"Median of q_lengths: {median_q_lengths}\")\n",
    "\n",
    "median_a_lengths = statistics.median(a_lengths)\n",
    "print(f\"Median of a_lengths: {median_a_lengths}\")"
   ],
   "outputs": [
    {
     "name": "stdout",
     "output_type": "stream",
     "text": [
      "Median of q_lengths: 8.0\n",
      "Median of a_lengths: 138.0\n"
     ]
    }
   ],
   "execution_count": 21
  },
  {
   "cell_type": "markdown",
   "id": "2ad83074-d5fb-4360-ba78-dfedcd4943b1",
   "metadata": {},
   "source": [
    "### Exploration of question and answer lengths:\n",
    "- Questions are short and concise (median 8 tokens), which simplifies preprocessing and ensures queries remain focused.\n",
    "- Answers, however, vary dramatically: while most are concise, some are very long, indicating the need for preprocessing strategies such as truncation, summarization, or chunking.\n",
    "\n",
    "This asymmetry suggests that retrieval is a suitable approach: queries are short, but the system must handle variable-length answers robustly."
   ]
  },
  {
   "cell_type": "code",
   "id": "2446d849-3a10-45b2-9dc1-9d58fde79be3",
   "metadata": {
    "ExecuteTime": {
     "end_time": "2025-09-19T23:23:43.612904Z",
     "start_time": "2025-09-19T23:23:43.584430Z"
    }
   },
   "source": [
    "# openings\n",
    "first_two = df['q_norm'].str.split().apply(lambda x: ' '.join(x[:2]) if isinstance(x, list) and len(x)>=2 else '')\n",
    "top_openings = first_two.value_counts().head(25).reset_index()\n",
    "top_openings.columns = ['opening','count']"
   ],
   "outputs": [],
   "execution_count": 22
  },
  {
   "cell_type": "code",
   "id": "3f722d71-087c-4a76-94aa-297a1eb35de2",
   "metadata": {
    "ExecuteTime": {
     "end_time": "2025-09-19T23:23:44.917524Z",
     "start_time": "2025-09-19T23:23:44.913636Z"
    }
   },
   "source": [
    "print(\"\\nTop 10 question openings:\")\n",
    "print(top_openings.head(10))"
   ],
   "outputs": [
    {
     "name": "stdout",
     "output_type": "stream",
     "text": [
      "\n",
      "Top 10 question openings:\n",
      "         opening  count\n",
      "0       what are   6394\n",
      "1        what is   4605\n",
      "2       how many   1117\n",
      "3         how to    849\n",
      "4    what causes    726\n",
      "5  what research    395\n",
      "6         who is    322\n",
      "7         do you    295\n",
      "8        what to    234\n",
      "9    is familial     35\n"
     ]
    }
   ],
   "execution_count": 23
  },
  {
   "cell_type": "code",
   "id": "a6e76268-2e32-488d-a181-7983343cd34d",
   "metadata": {
    "ExecuteTime": {
     "end_time": "2025-09-19T23:24:11.006540Z",
     "start_time": "2025-09-19T23:24:10.894635Z"
    }
   },
   "source": [
    "from collections import Counter\n",
    "bigrams = top_ngrams(df['question'], 2, 30)\n",
    "trigrams = top_ngrams(df['question'], 3, 30)\n",
    "print(\"\\nMost common bigrams in questions:\")\n",
    "print(bigrams.head())\n",
    "print(\"\\nMost common trigrams in questions:\")\n",
    "print(trigrams.head())"
   ],
   "outputs": [
    {
     "name": "stdout",
     "output_type": "stream",
     "text": [
      "\n",
      "Most common bigrams in questions:\n",
      "          ngram  count\n",
      "0      what are   6394\n",
      "1       are the   6391\n",
      "2       what is   4605\n",
      "3        is are   4235\n",
      "4  the symptoms   2746\n",
      "\n",
      "Most common trigrams in questions:\n",
      "                ngram  count\n",
      "0        what are the   6391\n",
      "1         what is are   4235\n",
      "2    are the symptoms   2746\n",
      "3     the symptoms of   2745\n",
      "4  are the treatments   2435\n"
     ]
    }
   ],
   "execution_count": 26
  },
  {
   "cell_type": "code",
   "id": "0b34b400-7091-45d9-a6e5-9383b0c3c596",
   "metadata": {
    "ExecuteTime": {
     "end_time": "2025-09-19T23:24:55.701395Z",
     "start_time": "2025-09-19T23:24:55.157934Z"
    }
   },
   "source": [
    "# near dupes\n",
    "import numpy as np\n",
    "from sklearn.feature_extraction.text import TfidfVectorizer\n",
    "from sklearn.metrics.pairwise import cosine_distances\n",
    "near_dupes = detect_near_duplicates(df['q_norm'], 2000, 0.1)\n",
    "near_dupes.to_csv('../data/near_duplicate_questions_sampled.csv', index=False)\n",
    "near_dupes.head()"
   ],
   "outputs": [
    {
     "data": {
      "text/plain": [
       "                                                  q1  \\\n",
       "121               what is (are) high blood pressure?   \n",
       "58       what is (are) medicare and continuing care?   \n",
       "57       what is (are) medicare and continuing care?   \n",
       "135  is leber hereditary optic neuropathy inherited?   \n",
       "142      what are the treatments for osteoarthritis?   \n",
       "\n",
       "                                                  q2  cosine_distance  \n",
       "121               what is (are) high blood pressure?              0.0  \n",
       "58       what is (are) medicare and continuing care?              0.0  \n",
       "57       what is (are) medicare and continuing care?              0.0  \n",
       "135  is leber hereditary optic neuropathy inherited?              0.0  \n",
       "142      what are the treatments for osteoarthritis?              0.0  "
      ],
      "text/html": [
       "<div>\n",
       "<style scoped>\n",
       "    .dataframe tbody tr th:only-of-type {\n",
       "        vertical-align: middle;\n",
       "    }\n",
       "\n",
       "    .dataframe tbody tr th {\n",
       "        vertical-align: top;\n",
       "    }\n",
       "\n",
       "    .dataframe thead th {\n",
       "        text-align: right;\n",
       "    }\n",
       "</style>\n",
       "<table border=\"1\" class=\"dataframe\">\n",
       "  <thead>\n",
       "    <tr style=\"text-align: right;\">\n",
       "      <th></th>\n",
       "      <th>q1</th>\n",
       "      <th>q2</th>\n",
       "      <th>cosine_distance</th>\n",
       "    </tr>\n",
       "  </thead>\n",
       "  <tbody>\n",
       "    <tr>\n",
       "      <th>121</th>\n",
       "      <td>what is (are) high blood pressure?</td>\n",
       "      <td>what is (are) high blood pressure?</td>\n",
       "      <td>0.0</td>\n",
       "    </tr>\n",
       "    <tr>\n",
       "      <th>58</th>\n",
       "      <td>what is (are) medicare and continuing care?</td>\n",
       "      <td>what is (are) medicare and continuing care?</td>\n",
       "      <td>0.0</td>\n",
       "    </tr>\n",
       "    <tr>\n",
       "      <th>57</th>\n",
       "      <td>what is (are) medicare and continuing care?</td>\n",
       "      <td>what is (are) medicare and continuing care?</td>\n",
       "      <td>0.0</td>\n",
       "    </tr>\n",
       "    <tr>\n",
       "      <th>135</th>\n",
       "      <td>is leber hereditary optic neuropathy inherited?</td>\n",
       "      <td>is leber hereditary optic neuropathy inherited?</td>\n",
       "      <td>0.0</td>\n",
       "    </tr>\n",
       "    <tr>\n",
       "      <th>142</th>\n",
       "      <td>what are the treatments for osteoarthritis?</td>\n",
       "      <td>what are the treatments for osteoarthritis?</td>\n",
       "      <td>0.0</td>\n",
       "    </tr>\n",
       "  </tbody>\n",
       "</table>\n",
       "</div>"
      ]
     },
     "execution_count": 29,
     "metadata": {},
     "output_type": "execute_result"
    }
   ],
   "execution_count": 29
  },
  {
   "cell_type": "code",
   "id": "9e6b79ad-565d-405c-9ae5-7cb36c46837e",
   "metadata": {
    "ExecuteTime": {
     "end_time": "2025-09-19T23:25:25.728026Z",
     "start_time": "2025-09-19T23:25:25.404766Z"
    }
   },
   "source": [
    "# outlier answers\n",
    "a_len_series = df['answer'].astype(str).str.split().apply(len)\n",
    "short_ans = df[a_len_series <= 5]\n",
    "long_ans = df[a_len_series >= max(200, int(a_len_series.quantile(0.95)))]"
   ],
   "outputs": [],
   "execution_count": 30
  },
  {
   "cell_type": "code",
   "id": "ac71e6de-f70c-4855-a65c-8acf4f2e1019",
   "metadata": {
    "ExecuteTime": {
     "end_time": "2025-09-19T23:25:28.142149Z",
     "start_time": "2025-09-19T23:25:28.136994Z"
    }
   },
   "source": [
    "short_ans.head(3)"
   ],
   "outputs": [
    {
     "data": {
      "text/plain": [
       "                                           question  \\\n",
       "2556                     What causes Bell's palsy ?   \n",
       "3080                Is 48,XXYY syndrome inherited ?   \n",
       "3124  Is Wolff-Parkinson-White syndrome inherited ?   \n",
       "\n",
       "                                            answer  \\\n",
       "2556                     What causes Bell's palsy?   \n",
       "3080            Can 48,XXYY syndrome be inherited?   \n",
       "3124  Is Wolff-Parkinson-White syndrome inherited?   \n",
       "\n",
       "                                            q_norm  \n",
       "2556                     what causes bell's palsy?  \n",
       "3080                is 48,xxyy syndrome inherited?  \n",
       "3124  is wolff-parkinson-white syndrome inherited?  "
      ],
      "text/html": [
       "<div>\n",
       "<style scoped>\n",
       "    .dataframe tbody tr th:only-of-type {\n",
       "        vertical-align: middle;\n",
       "    }\n",
       "\n",
       "    .dataframe tbody tr th {\n",
       "        vertical-align: top;\n",
       "    }\n",
       "\n",
       "    .dataframe thead th {\n",
       "        text-align: right;\n",
       "    }\n",
       "</style>\n",
       "<table border=\"1\" class=\"dataframe\">\n",
       "  <thead>\n",
       "    <tr style=\"text-align: right;\">\n",
       "      <th></th>\n",
       "      <th>question</th>\n",
       "      <th>answer</th>\n",
       "      <th>q_norm</th>\n",
       "    </tr>\n",
       "  </thead>\n",
       "  <tbody>\n",
       "    <tr>\n",
       "      <th>2556</th>\n",
       "      <td>What causes Bell's palsy ?</td>\n",
       "      <td>What causes Bell's palsy?</td>\n",
       "      <td>what causes bell's palsy?</td>\n",
       "    </tr>\n",
       "    <tr>\n",
       "      <th>3080</th>\n",
       "      <td>Is 48,XXYY syndrome inherited ?</td>\n",
       "      <td>Can 48,XXYY syndrome be inherited?</td>\n",
       "      <td>is 48,xxyy syndrome inherited?</td>\n",
       "    </tr>\n",
       "    <tr>\n",
       "      <th>3124</th>\n",
       "      <td>Is Wolff-Parkinson-White syndrome inherited ?</td>\n",
       "      <td>Is Wolff-Parkinson-White syndrome inherited?</td>\n",
       "      <td>is wolff-parkinson-white syndrome inherited?</td>\n",
       "    </tr>\n",
       "  </tbody>\n",
       "</table>\n",
       "</div>"
      ]
     },
     "execution_count": 31,
     "metadata": {},
     "output_type": "execute_result"
    }
   ],
   "execution_count": 31
  },
  {
   "cell_type": "code",
   "id": "deb690a9-d697-484f-8eb4-6cea6ee698b7",
   "metadata": {
    "ExecuteTime": {
     "end_time": "2025-09-19T23:25:29.416656Z",
     "start_time": "2025-09-19T23:25:29.410162Z"
    }
   },
   "source": [
    "long_ans.head(2)"
   ],
   "outputs": [
    {
     "data": {
      "text/plain": [
       "                                question  \\\n",
       "10   What is (are) High Blood Pressure ?   \n",
       "13  How to prevent High Blood Pressure ?   \n",
       "\n",
       "                                               answer  \\\n",
       "10  High blood pressure is a common disease in whi...   \n",
       "13  Steps You Can Take You can take steps to preve...   \n",
       "\n",
       "                                 q_norm  \n",
       "10   what is (are) high blood pressure?  \n",
       "13  how to prevent high blood pressure?  "
      ],
      "text/html": [
       "<div>\n",
       "<style scoped>\n",
       "    .dataframe tbody tr th:only-of-type {\n",
       "        vertical-align: middle;\n",
       "    }\n",
       "\n",
       "    .dataframe tbody tr th {\n",
       "        vertical-align: top;\n",
       "    }\n",
       "\n",
       "    .dataframe thead th {\n",
       "        text-align: right;\n",
       "    }\n",
       "</style>\n",
       "<table border=\"1\" class=\"dataframe\">\n",
       "  <thead>\n",
       "    <tr style=\"text-align: right;\">\n",
       "      <th></th>\n",
       "      <th>question</th>\n",
       "      <th>answer</th>\n",
       "      <th>q_norm</th>\n",
       "    </tr>\n",
       "  </thead>\n",
       "  <tbody>\n",
       "    <tr>\n",
       "      <th>10</th>\n",
       "      <td>What is (are) High Blood Pressure ?</td>\n",
       "      <td>High blood pressure is a common disease in whi...</td>\n",
       "      <td>what is (are) high blood pressure?</td>\n",
       "    </tr>\n",
       "    <tr>\n",
       "      <th>13</th>\n",
       "      <td>How to prevent High Blood Pressure ?</td>\n",
       "      <td>Steps You Can Take You can take steps to preve...</td>\n",
       "      <td>how to prevent high blood pressure?</td>\n",
       "    </tr>\n",
       "  </tbody>\n",
       "</table>\n",
       "</div>"
      ]
     },
     "execution_count": 32,
     "metadata": {},
     "output_type": "execute_result"
    }
   ],
   "execution_count": 32
  },
  {
   "cell_type": "markdown",
   "id": "15da3f7a-d179-4362-b6ba-0fc9e22e5984",
   "metadata": {},
   "source": "From short answers, we observe rows where the answer is exactly or semantically similar to the question. We will have to remove such rows during pre-processing. This encourages us to compare answers for sematically similar questions"
  },
  {
   "cell_type": "code",
   "id": "60994d69-989a-40d9-a4aa-a71b910f5f2a",
   "metadata": {
    "ExecuteTime": {
     "end_time": "2025-09-19T23:26:53.736281Z",
     "start_time": "2025-09-19T23:26:53.651227Z"
    }
   },
   "source": [
    "\n",
    "total_rows = len(df)\n",
    "unique_answers = df['answer'].astype(str).nunique()\n",
    "\n",
    "# number of rows that are duplicates of another answer\n",
    "duplicate_answer_rows = total_rows - unique_answers\n",
    "\n",
    "# number of unique answers that are duplicated at least once\n",
    "duplicated_answer_groups = df['answer'].astype(str).duplicated(keep=False).sum()\n",
    "\n",
    "print(f\"Total rows: {total_rows:,}\")\n",
    "print(f\"Unique answers: {unique_answers:,}\")\n",
    "print(f\"Rows with duplicate answers: {duplicate_answer_rows:,}\")\n",
    "print(f\"Groups of answers duplicated at least once: {duplicated_answer_groups:,}\")\n"
   ],
   "outputs": [
    {
     "name": "stdout",
     "output_type": "stream",
     "text": [
      "Total rows: 16,406\n",
      "Unique answers: 15,812\n",
      "Rows with duplicate answers: 594\n",
      "Groups of answers duplicated at least once: 679\n"
     ]
    }
   ],
   "execution_count": 33
  },
  {
   "cell_type": "code",
   "execution_count": 34,
   "id": "50c98e88-0c8b-451a-a840-df9bc82d6127",
   "metadata": {},
   "outputs": [
    {
     "data": {
      "text/plain": [
       "243"
      ]
     },
     "execution_count": 34,
     "metadata": {},
     "output_type": "execute_result"
    }
   ],
   "source": [
    "len(near_dupes)"
   ]
  },
  {
   "cell_type": "markdown",
   "id": "f454c81e-05b9-4d8d-aca4-fad6a1bd0d85",
   "metadata": {},
   "source": [
    "Our dataset shows 594 rows with duplicate answers and at least 243 pairs of near-duplicate questions. These redundancies highlight the need for a deduplication step. We should normalize questions and merge answers for semantically similar entries, ensuring each unique medical query is represented once with a consolidated answer. This will improve training stability and retrieval quality."
   ]
  },
  {
   "cell_type": "markdown",
   "id": "5681515d-4805-4c8d-a7f2-4ee63721ce61",
   "metadata": {},
   "source": ""
  }
 ],
 "metadata": {
  "kernelspec": {
   "display_name": "Python 3 (ipykernel)",
   "language": "python",
   "name": "python3"
  },
  "language_info": {
   "codemirror_mode": {
    "name": "ipython",
    "version": 3
   },
   "file_extension": ".py",
   "mimetype": "text/x-python",
   "name": "python",
   "nbconvert_exporter": "python",
   "pygments_lexer": "ipython3",
   "version": "3.12.11"
  }
 },
 "nbformat": 4,
 "nbformat_minor": 5
}
